{
 "cells": [
  {
   "cell_type": "code",
   "execution_count": 1,
   "metadata": {},
   "outputs": [],
   "source": [
    "import numpy as np\n",
    "import pandas as pd\n",
    "import matplotlib.pyplot as plt\n",
    "import seaborn as sns\n",
    "from sklearn.impute import SimpleImputer\n",
    "from sklearn.preprocessing import minmax_scale,LabelEncoder\n",
    "from sklearn.svm import SVC\n",
    "from sklearn.metrics import confusion_matrix\n",
    "from sklearn.model_selection import train_test_split\n",
    "from sklearn.neighbors import KNeighborsClassifier"
   ]
  },
  {
   "cell_type": "code",
   "execution_count": 2,
   "metadata": {},
   "outputs": [
    {
     "data": {
      "text/html": [
       "<div>\n",
       "<style scoped>\n",
       "    .dataframe tbody tr th:only-of-type {\n",
       "        vertical-align: middle;\n",
       "    }\n",
       "\n",
       "    .dataframe tbody tr th {\n",
       "        vertical-align: top;\n",
       "    }\n",
       "\n",
       "    .dataframe thead th {\n",
       "        text-align: right;\n",
       "    }\n",
       "</style>\n",
       "<table border=\"1\" class=\"dataframe\">\n",
       "  <thead>\n",
       "    <tr style=\"text-align: right;\">\n",
       "      <th></th>\n",
       "      <th>yas</th>\n",
       "      <th>cinsiyet</th>\n",
       "      <th>gogus_agrisi_tipi</th>\n",
       "      <th>hareketsiz_kan_basinci</th>\n",
       "      <th>serum_kolestrol</th>\n",
       "      <th>aclik_kan_sekeri</th>\n",
       "      <th>elektrokardiyografi</th>\n",
       "      <th>en_yuksek_kalp_hizi</th>\n",
       "      <th>anjin_bagli_egsersiz</th>\n",
       "      <th>st_depresyonu</th>\n",
       "      <th>st_egimi</th>\n",
       "      <th>buyuk_damarlar</th>\n",
       "      <th>talasemi</th>\n",
       "      <th>kalp_rahatsizligi</th>\n",
       "    </tr>\n",
       "  </thead>\n",
       "  <tbody>\n",
       "    <tr>\n",
       "      <th>0</th>\n",
       "      <td>63.0</td>\n",
       "      <td>erkek</td>\n",
       "      <td>tipik anjinal</td>\n",
       "      <td>145.0</td>\n",
       "      <td>233.0</td>\n",
       "      <td>1</td>\n",
       "      <td>sol ventikuler hipertrofi</td>\n",
       "      <td>150.0</td>\n",
       "      <td>0</td>\n",
       "      <td>2.3</td>\n",
       "      <td>asagi egimli</td>\n",
       "      <td>0.0</td>\n",
       "      <td>sabit defekt</td>\n",
       "      <td>0</td>\n",
       "    </tr>\n",
       "    <tr>\n",
       "      <th>1</th>\n",
       "      <td>67.0</td>\n",
       "      <td>erkek</td>\n",
       "      <td>asemptomatik</td>\n",
       "      <td>160.0</td>\n",
       "      <td>286.0</td>\n",
       "      <td>0</td>\n",
       "      <td>sol ventikuler hipertrofi</td>\n",
       "      <td>108.0</td>\n",
       "      <td>1</td>\n",
       "      <td>1.5</td>\n",
       "      <td>duz</td>\n",
       "      <td>3.0</td>\n",
       "      <td>normal</td>\n",
       "      <td>1</td>\n",
       "    </tr>\n",
       "    <tr>\n",
       "      <th>2</th>\n",
       "      <td>67.0</td>\n",
       "      <td>erkek</td>\n",
       "      <td>asemptomatik</td>\n",
       "      <td>120.0</td>\n",
       "      <td>229.0</td>\n",
       "      <td>0</td>\n",
       "      <td>sol ventikuler hipertrofi</td>\n",
       "      <td>129.0</td>\n",
       "      <td>1</td>\n",
       "      <td>2.6</td>\n",
       "      <td>duz</td>\n",
       "      <td>2.0</td>\n",
       "      <td>tersinir defekt</td>\n",
       "      <td>1</td>\n",
       "    </tr>\n",
       "  </tbody>\n",
       "</table>\n",
       "</div>"
      ],
      "text/plain": [
       "    yas cinsiyet gogus_agrisi_tipi  hareketsiz_kan_basinci  serum_kolestrol  \\\n",
       "0  63.0    erkek     tipik anjinal                   145.0            233.0   \n",
       "1  67.0    erkek      asemptomatik                   160.0            286.0   \n",
       "2  67.0    erkek      asemptomatik                   120.0            229.0   \n",
       "\n",
       "   aclik_kan_sekeri        elektrokardiyografi  en_yuksek_kalp_hizi  \\\n",
       "0                 1  sol ventikuler hipertrofi                150.0   \n",
       "1                 0  sol ventikuler hipertrofi                108.0   \n",
       "2                 0  sol ventikuler hipertrofi                129.0   \n",
       "\n",
       "   anjin_bagli_egsersiz  st_depresyonu      st_egimi  buyuk_damarlar  \\\n",
       "0                     0            2.3  asagi egimli             0.0   \n",
       "1                     1            1.5           duz             3.0   \n",
       "2                     1            2.6           duz             2.0   \n",
       "\n",
       "          talasemi  kalp_rahatsizligi  \n",
       "0     sabit defekt                  0  \n",
       "1           normal                  1  \n",
       "2  tersinir defekt                  1  "
      ]
     },
     "execution_count": 2,
     "metadata": {},
     "output_type": "execute_result"
    }
   ],
   "source": [
    "df = pd.read_csv(\"veri_setleri/kalp_rahatsizligi.csv\",sep=\",\")\n",
    "df.head(3)"
   ]
  },
  {
   "cell_type": "code",
   "execution_count": 3,
   "metadata": {},
   "outputs": [
    {
     "name": "stdout",
     "output_type": "stream",
     "text": [
      "<class 'pandas.core.frame.DataFrame'>\n",
      "RangeIndex: 303 entries, 0 to 302\n",
      "Data columns (total 14 columns):\n",
      " #   Column                  Non-Null Count  Dtype  \n",
      "---  ------                  --------------  -----  \n",
      " 0   yas                     303 non-null    float64\n",
      " 1   cinsiyet                303 non-null    object \n",
      " 2   gogus_agrisi_tipi       303 non-null    object \n",
      " 3   hareketsiz_kan_basinci  303 non-null    float64\n",
      " 4   serum_kolestrol         303 non-null    float64\n",
      " 5   aclik_kan_sekeri        303 non-null    int64  \n",
      " 6   elektrokardiyografi     303 non-null    object \n",
      " 7   en_yuksek_kalp_hizi     303 non-null    float64\n",
      " 8   anjin_bagli_egsersiz    303 non-null    int64  \n",
      " 9   st_depresyonu           303 non-null    float64\n",
      " 10  st_egimi                303 non-null    object \n",
      " 11  buyuk_damarlar          299 non-null    float64\n",
      " 12  talasemi                301 non-null    object \n",
      " 13  kalp_rahatsizligi       303 non-null    int64  \n",
      "dtypes: float64(6), int64(3), object(5)\n",
      "memory usage: 33.3+ KB\n"
     ]
    }
   ],
   "source": [
    "df.info()"
   ]
  },
  {
   "cell_type": "code",
   "execution_count": 4,
   "metadata": {},
   "outputs": [],
   "source": [
    "df.rename(columns={\"gogus_agrisi_tipi\":\"gat\",\n",
    "\"hareketsiz_kan_basinci\":\"hkb\",\n",
    "\"serum_kolestrol\":\"sk\",\n",
    "\"aclik_kan_sekeri\":\"aks\",\n",
    "\"elektrokardiyografi\":\"ekg\",\n",
    "\"en_yuksek_kalp_hizi\":\"eykh\",\n",
    "\"anjin_bagli_egsersiz\":\"abe\",\n",
    "\"st_depresyonu\":\"std\",\n",
    "\"st_egimi\":\"ste\",\n",
    "\"buyuk_damarlar\":\"bds\"\n",
    "},inplace=True)\n"
   ]
  },
  {
   "cell_type": "code",
   "execution_count": 5,
   "metadata": {},
   "outputs": [
    {
     "name": "stdout",
     "output_type": "stream",
     "text": [
      "<class 'pandas.core.frame.DataFrame'>\n",
      "RangeIndex: 303 entries, 0 to 302\n",
      "Data columns (total 14 columns):\n",
      " #   Column             Non-Null Count  Dtype  \n",
      "---  ------             --------------  -----  \n",
      " 0   yas                303 non-null    float64\n",
      " 1   cinsiyet           303 non-null    object \n",
      " 2   gat                303 non-null    object \n",
      " 3   hkb                303 non-null    float64\n",
      " 4   sk                 303 non-null    float64\n",
      " 5   aks                303 non-null    int64  \n",
      " 6   ekg                303 non-null    object \n",
      " 7   eykh               303 non-null    float64\n",
      " 8   abe                303 non-null    int64  \n",
      " 9   std                303 non-null    float64\n",
      " 10  ste                303 non-null    object \n",
      " 11  bds                299 non-null    float64\n",
      " 12  talasemi           301 non-null    object \n",
      " 13  kalp_rahatsizligi  303 non-null    int64  \n",
      "dtypes: float64(6), int64(3), object(5)\n",
      "memory usage: 33.3+ KB\n"
     ]
    }
   ],
   "source": [
    "df.info()"
   ]
  },
  {
   "cell_type": "code",
   "execution_count": 6,
   "metadata": {},
   "outputs": [],
   "source": [
    "imp=SimpleImputer(missing_values=np.nan,strategy=\"most_frequent\")\n",
    "bds=df.iloc[:,[11]].values.reshape(-1,1) # bds=df[\"bds\"].values.reshape(-1,1)\n",
    "tal=df.iloc[:,[12]].values.reshape(-1,1) # tal=df[\"talasemi\"].values.reshape(-1,1)\n",
    "\n",
    "df[\"bds\"]=imp.fit_transform(bds)\n",
    "df[\"talasemi\"]=imp.fit_transform(tal)"
   ]
  },
  {
   "cell_type": "code",
   "execution_count": 7,
   "metadata": {},
   "outputs": [
    {
     "name": "stdout",
     "output_type": "stream",
     "text": [
      "<class 'pandas.core.frame.DataFrame'>\n",
      "RangeIndex: 303 entries, 0 to 302\n",
      "Data columns (total 14 columns):\n",
      " #   Column             Non-Null Count  Dtype  \n",
      "---  ------             --------------  -----  \n",
      " 0   yas                303 non-null    float64\n",
      " 1   cinsiyet           303 non-null    object \n",
      " 2   gat                303 non-null    object \n",
      " 3   hkb                303 non-null    float64\n",
      " 4   sk                 303 non-null    float64\n",
      " 5   aks                303 non-null    int64  \n",
      " 6   ekg                303 non-null    object \n",
      " 7   eykh               303 non-null    float64\n",
      " 8   abe                303 non-null    int64  \n",
      " 9   std                303 non-null    float64\n",
      " 10  ste                303 non-null    object \n",
      " 11  bds                303 non-null    float64\n",
      " 12  talasemi           303 non-null    object \n",
      " 13  kalp_rahatsizligi  303 non-null    int64  \n",
      "dtypes: float64(6), int64(3), object(5)\n",
      "memory usage: 33.3+ KB\n"
     ]
    }
   ],
   "source": [
    "df.info()"
   ]
  },
  {
   "cell_type": "code",
   "execution_count": 8,
   "metadata": {},
   "outputs": [
    {
     "data": {
      "image/png": "[encoded data removed]",
      "text/plain": [
       "<Figure size 432x288 with 1 Axes>"
      ]
     },
     "metadata": {
      "needs_background": "light"
     },
     "output_type": "display_data"
    }
   ],
   "source": [
    "sns.boxplot(data=df,y=\"sk\")\n",
    "plt.show()"
   ]
  },
  {
   "cell_type": "code",
   "execution_count": 9,
   "metadata": {},
   "outputs": [
    {
     "data": {
      "text/html": [
       "<div>\n",
       "<style scoped>\n",
       "    .dataframe tbody tr th:only-of-type {\n",
       "        vertical-align: middle;\n",
       "    }\n",
       "\n",
       "    .dataframe tbody tr th {\n",
       "        vertical-align: top;\n",
       "    }\n",
       "\n",
       "    .dataframe thead th {\n",
       "        text-align: right;\n",
       "    }\n",
       "</style>\n",
       "<table border=\"1\" class=\"dataframe\">\n",
       "  <thead>\n",
       "    <tr style=\"text-align: right;\">\n",
       "      <th></th>\n",
       "      <th>yas</th>\n",
       "      <th>hkb</th>\n",
       "      <th>sk</th>\n",
       "      <th>aks</th>\n",
       "      <th>eykh</th>\n",
       "      <th>abe</th>\n",
       "      <th>std</th>\n",
       "      <th>bds</th>\n",
       "      <th>kalp_rahatsizligi</th>\n",
       "    </tr>\n",
       "  </thead>\n",
       "  <tbody>\n",
       "    <tr>\n",
       "      <th>count</th>\n",
       "      <td>303.000000</td>\n",
       "      <td>303.000000</td>\n",
       "      <td>303.000000</td>\n",
       "      <td>303.000000</td>\n",
       "      <td>303.000000</td>\n",
       "      <td>303.000000</td>\n",
       "      <td>303.000000</td>\n",
       "      <td>303.000000</td>\n",
       "      <td>303.000000</td>\n",
       "    </tr>\n",
       "    <tr>\n",
       "      <th>mean</th>\n",
       "      <td>54.438944</td>\n",
       "      <td>131.689769</td>\n",
       "      <td>246.693069</td>\n",
       "      <td>0.148515</td>\n",
       "      <td>149.607261</td>\n",
       "      <td>0.326733</td>\n",
       "      <td>1.039604</td>\n",
       "      <td>0.663366</td>\n",
       "      <td>0.458746</td>\n",
       "    </tr>\n",
       "    <tr>\n",
       "      <th>std</th>\n",
       "      <td>9.038662</td>\n",
       "      <td>17.599748</td>\n",
       "      <td>51.776918</td>\n",
       "      <td>0.356198</td>\n",
       "      <td>22.875003</td>\n",
       "      <td>0.469794</td>\n",
       "      <td>1.161075</td>\n",
       "      <td>0.934375</td>\n",
       "      <td>0.499120</td>\n",
       "    </tr>\n",
       "    <tr>\n",
       "      <th>min</th>\n",
       "      <td>29.000000</td>\n",
       "      <td>94.000000</td>\n",
       "      <td>126.000000</td>\n",
       "      <td>0.000000</td>\n",
       "      <td>71.000000</td>\n",
       "      <td>0.000000</td>\n",
       "      <td>0.000000</td>\n",
       "      <td>0.000000</td>\n",
       "      <td>0.000000</td>\n",
       "    </tr>\n",
       "    <tr>\n",
       "      <th>25%</th>\n",
       "      <td>48.000000</td>\n",
       "      <td>120.000000</td>\n",
       "      <td>211.000000</td>\n",
       "      <td>0.000000</td>\n",
       "      <td>133.500000</td>\n",
       "      <td>0.000000</td>\n",
       "      <td>0.000000</td>\n",
       "      <td>0.000000</td>\n",
       "      <td>0.000000</td>\n",
       "    </tr>\n",
       "    <tr>\n",
       "      <th>50%</th>\n",
       "      <td>56.000000</td>\n",
       "      <td>130.000000</td>\n",
       "      <td>241.000000</td>\n",
       "      <td>0.000000</td>\n",
       "      <td>153.000000</td>\n",
       "      <td>0.000000</td>\n",
       "      <td>0.800000</td>\n",
       "      <td>0.000000</td>\n",
       "      <td>0.000000</td>\n",
       "    </tr>\n",
       "    <tr>\n",
       "      <th>75%</th>\n",
       "      <td>61.000000</td>\n",
       "      <td>140.000000</td>\n",
       "      <td>275.000000</td>\n",
       "      <td>0.000000</td>\n",
       "      <td>166.000000</td>\n",
       "      <td>1.000000</td>\n",
       "      <td>1.600000</td>\n",
       "      <td>1.000000</td>\n",
       "      <td>1.000000</td>\n",
       "    </tr>\n",
       "    <tr>\n",
       "      <th>max</th>\n",
       "      <td>77.000000</td>\n",
       "      <td>200.000000</td>\n",
       "      <td>564.000000</td>\n",
       "      <td>1.000000</td>\n",
       "      <td>202.000000</td>\n",
       "      <td>1.000000</td>\n",
       "      <td>6.200000</td>\n",
       "      <td>3.000000</td>\n",
       "      <td>1.000000</td>\n",
       "    </tr>\n",
       "  </tbody>\n",
       "</table>\n",
       "</div>"
      ],
      "text/plain": [
       "              yas         hkb          sk         aks        eykh         abe  \\\n",
       "count  303.000000  303.000000  303.000000  303.000000  303.000000  303.000000   \n",
       "mean    54.438944  131.689769  246.693069    0.148515  149.607261    0.326733   \n",
       "std      9.038662   17.599748   51.776918    0.356198   22.875003    0.469794   \n",
       "min     29.000000   94.000000  126.000000    0.000000   71.000000    0.000000   \n",
       "25%     48.000000  120.000000  211.000000    0.000000  133.500000    0.000000   \n",
       "50%     56.000000  130.000000  241.000000    0.000000  153.000000    0.000000   \n",
       "75%     61.000000  140.000000  275.000000    0.000000  166.000000    1.000000   \n",
       "max     77.000000  200.000000  564.000000    1.000000  202.000000    1.000000   \n",
       "\n",
       "              std         bds  kalp_rahatsizligi  \n",
       "count  303.000000  303.000000         303.000000  \n",
       "mean     1.039604    0.663366           0.458746  \n",
       "std      1.161075    0.934375           0.499120  \n",
       "min      0.000000    0.000000           0.000000  \n",
       "25%      0.000000    0.000000           0.000000  \n",
       "50%      0.800000    0.000000           0.000000  \n",
       "75%      1.600000    1.000000           1.000000  \n",
       "max      6.200000    3.000000           1.000000  "
      ]
     },
     "execution_count": 9,
     "metadata": {},
     "output_type": "execute_result"
    }
   ],
   "source": [
    "df.describe()"
   ]
  },
  {
   "cell_type": "code",
   "execution_count": 10,
   "metadata": {},
   "outputs": [],
   "source": [
    "df=df[(df[\"sk\"]>=115)&(df[\"sk\"]<=375)]"
   ]
  },
  {
   "cell_type": "code",
   "execution_count": 11,
   "metadata": {},
   "outputs": [
    {
     "data": {
      "text/plain": [
       "yas                  298\n",
       "cinsiyet             298\n",
       "gat                  298\n",
       "hkb                  298\n",
       "sk                   298\n",
       "aks                  298\n",
       "ekg                  298\n",
       "eykh                 298\n",
       "abe                  298\n",
       "std                  298\n",
       "ste                  298\n",
       "bds                  298\n",
       "talasemi             298\n",
       "kalp_rahatsizligi    298\n",
       "dtype: int64"
      ]
     },
     "execution_count": 11,
     "metadata": {},
     "output_type": "execute_result"
    }
   ],
   "source": [
    "df.count()"
   ]
  },
  {
   "cell_type": "code",
   "execution_count": 12,
   "metadata": {},
   "outputs": [
    {
     "data": {
      "image/png": "[encoded data removed]",
      "text/plain": [
       "<Figure size 432x288 with 1 Axes>"
      ]
     },
     "metadata": {
      "needs_background": "light"
     },
     "output_type": "display_data"
    }
   ],
   "source": [
    "sns.boxplot(data=df,y=\"sk\")\n",
    "plt.show()"
   ]
  },
  {
   "cell_type": "code",
   "execution_count": 13,
   "metadata": {},
   "outputs": [
    {
     "data": {
      "text/plain": [
       "array(['sol ventikuler hipertrofi', 'normal', 'ST-T anormal'],\n",
       "      dtype=object)"
      ]
     },
     "execution_count": 13,
     "metadata": {},
     "output_type": "execute_result"
    }
   ],
   "source": [
    "df[\"ekg\"].unique()"
   ]
  },
  {
   "cell_type": "code",
   "execution_count": 14,
   "metadata": {},
   "outputs": [
    {
     "name": "stdout",
     "output_type": "stream",
     "text": [
      "<class 'pandas.core.frame.DataFrame'>\n",
      "Int64Index: 298 entries, 0 to 302\n",
      "Data columns (total 14 columns):\n",
      " #   Column             Non-Null Count  Dtype  \n",
      "---  ------             --------------  -----  \n",
      " 0   yas                298 non-null    float64\n",
      " 1   cinsiyet           298 non-null    object \n",
      " 2   gat                298 non-null    object \n",
      " 3   hkb                298 non-null    float64\n",
      " 4   sk                 298 non-null    float64\n",
      " 5   aks                298 non-null    int64  \n",
      " 6   ekg                298 non-null    object \n",
      " 7   eykh               298 non-null    float64\n",
      " 8   abe                298 non-null    int64  \n",
      " 9   std                298 non-null    float64\n",
      " 10  ste                298 non-null    object \n",
      " 11  bds                298 non-null    float64\n",
      " 12  talasemi           298 non-null    object \n",
      " 13  kalp_rahatsizligi  298 non-null    int64  \n",
      "dtypes: float64(6), int64(3), object(5)\n",
      "memory usage: 34.9+ KB\n"
     ]
    }
   ],
   "source": [
    "df.info()"
   ]
  },
  {
   "cell_type": "code",
   "execution_count": 15,
   "metadata": {},
   "outputs": [],
   "source": [
    "le=LabelEncoder()\n",
    "df[\"cinsiyet\"]=le.fit_transform(df[\"cinsiyet\"])\n",
    "df[\"gat\"]=le.fit_transform(df[\"gat\"])\n",
    "df[\"ekg\"]=le.fit_transform(df[\"ekg\"])\n",
    "df[\"ste\"]=le.fit_transform(df[\"ste\"])\n",
    "df[\"talasemi\"]=le.fit_transform(df[\"talasemi\"])\n",
    "\n"
   ]
  },
  {
   "cell_type": "code",
   "execution_count": 16,
   "metadata": {},
   "outputs": [
    {
     "data": {
      "text/html": [
       "<div>\n",
       "<style scoped>\n",
       "    .dataframe tbody tr th:only-of-type {\n",
       "        vertical-align: middle;\n",
       "    }\n",
       "\n",
       "    .dataframe tbody tr th {\n",
       "        vertical-align: top;\n",
       "    }\n",
       "\n",
       "    .dataframe thead th {\n",
       "        text-align: right;\n",
       "    }\n",
       "</style>\n",
       "<table border=\"1\" class=\"dataframe\">\n",
       "  <thead>\n",
       "    <tr style=\"text-align: right;\">\n",
       "      <th></th>\n",
       "      <th>yas</th>\n",
       "      <th>cinsiyet</th>\n",
       "      <th>gat</th>\n",
       "      <th>hkb</th>\n",
       "      <th>sk</th>\n",
       "      <th>aks</th>\n",
       "      <th>ekg</th>\n",
       "      <th>eykh</th>\n",
       "      <th>abe</th>\n",
       "      <th>std</th>\n",
       "      <th>ste</th>\n",
       "      <th>bds</th>\n",
       "      <th>talasemi</th>\n",
       "      <th>kalp_rahatsizligi</th>\n",
       "    </tr>\n",
       "  </thead>\n",
       "  <tbody>\n",
       "    <tr>\n",
       "      <th>0</th>\n",
       "      <td>63.0</td>\n",
       "      <td>0</td>\n",
       "      <td>3</td>\n",
       "      <td>145.0</td>\n",
       "      <td>233.0</td>\n",
       "      <td>1</td>\n",
       "      <td>2</td>\n",
       "      <td>150.0</td>\n",
       "      <td>0</td>\n",
       "      <td>2.3</td>\n",
       "      <td>0</td>\n",
       "      <td>0.0</td>\n",
       "      <td>1</td>\n",
       "      <td>0</td>\n",
       "    </tr>\n",
       "    <tr>\n",
       "      <th>1</th>\n",
       "      <td>67.0</td>\n",
       "      <td>0</td>\n",
       "      <td>1</td>\n",
       "      <td>160.0</td>\n",
       "      <td>286.0</td>\n",
       "      <td>0</td>\n",
       "      <td>2</td>\n",
       "      <td>108.0</td>\n",
       "      <td>1</td>\n",
       "      <td>1.5</td>\n",
       "      <td>1</td>\n",
       "      <td>3.0</td>\n",
       "      <td>0</td>\n",
       "      <td>1</td>\n",
       "    </tr>\n",
       "    <tr>\n",
       "      <th>2</th>\n",
       "      <td>67.0</td>\n",
       "      <td>0</td>\n",
       "      <td>1</td>\n",
       "      <td>120.0</td>\n",
       "      <td>229.0</td>\n",
       "      <td>0</td>\n",
       "      <td>2</td>\n",
       "      <td>129.0</td>\n",
       "      <td>1</td>\n",
       "      <td>2.6</td>\n",
       "      <td>1</td>\n",
       "      <td>2.0</td>\n",
       "      <td>2</td>\n",
       "      <td>1</td>\n",
       "    </tr>\n",
       "    <tr>\n",
       "      <th>3</th>\n",
       "      <td>37.0</td>\n",
       "      <td>0</td>\n",
       "      <td>0</td>\n",
       "      <td>130.0</td>\n",
       "      <td>250.0</td>\n",
       "      <td>0</td>\n",
       "      <td>1</td>\n",
       "      <td>187.0</td>\n",
       "      <td>0</td>\n",
       "      <td>3.5</td>\n",
       "      <td>0</td>\n",
       "      <td>0.0</td>\n",
       "      <td>0</td>\n",
       "      <td>0</td>\n",
       "    </tr>\n",
       "    <tr>\n",
       "      <th>4</th>\n",
       "      <td>41.0</td>\n",
       "      <td>1</td>\n",
       "      <td>2</td>\n",
       "      <td>130.0</td>\n",
       "      <td>204.0</td>\n",
       "      <td>0</td>\n",
       "      <td>2</td>\n",
       "      <td>172.0</td>\n",
       "      <td>0</td>\n",
       "      <td>1.4</td>\n",
       "      <td>2</td>\n",
       "      <td>0.0</td>\n",
       "      <td>0</td>\n",
       "      <td>0</td>\n",
       "    </tr>\n",
       "  </tbody>\n",
       "</table>\n",
       "</div>"
      ],
      "text/plain": [
       "    yas  cinsiyet  gat    hkb     sk  aks  ekg   eykh  abe  std  ste  bds  \\\n",
       "0  63.0         0    3  145.0  233.0    1    2  150.0    0  2.3    0  0.0   \n",
       "1  67.0         0    1  160.0  286.0    0    2  108.0    1  1.5    1  3.0   \n",
       "2  67.0         0    1  120.0  229.0    0    2  129.0    1  2.6    1  2.0   \n",
       "3  37.0         0    0  130.0  250.0    0    1  187.0    0  3.5    0  0.0   \n",
       "4  41.0         1    2  130.0  204.0    0    2  172.0    0  1.4    2  0.0   \n",
       "\n",
       "   talasemi  kalp_rahatsizligi  \n",
       "0         1                  0  \n",
       "1         0                  1  \n",
       "2         2                  1  \n",
       "3         0                  0  \n",
       "4         0                  0  "
      ]
     },
     "execution_count": 16,
     "metadata": {},
     "output_type": "execute_result"
    }
   ],
   "source": [
    "df.head()"
   ]
  },
  {
   "cell_type": "code",
   "execution_count": 17,
   "metadata": {},
   "outputs": [
    {
     "name": "stdout",
     "output_type": "stream",
     "text": [
      "<class 'pandas.core.frame.DataFrame'>\n",
      "Int64Index: 298 entries, 0 to 302\n",
      "Data columns (total 14 columns):\n",
      " #   Column             Non-Null Count  Dtype  \n",
      "---  ------             --------------  -----  \n",
      " 0   yas                298 non-null    float64\n",
      " 1   cinsiyet           298 non-null    int64  \n",
      " 2   gat                298 non-null    int64  \n",
      " 3   hkb                298 non-null    float64\n",
      " 4   sk                 298 non-null    float64\n",
      " 5   aks                298 non-null    int64  \n",
      " 6   ekg                298 non-null    int64  \n",
      " 7   eykh               298 non-null    float64\n",
      " 8   abe                298 non-null    int64  \n",
      " 9   std                298 non-null    float64\n",
      " 10  ste                298 non-null    int64  \n",
      " 11  bds                298 non-null    float64\n",
      " 12  talasemi           298 non-null    int64  \n",
      " 13  kalp_rahatsizligi  298 non-null    int64  \n",
      "dtypes: float64(6), int64(8)\n",
      "memory usage: 34.9 KB\n"
     ]
    }
   ],
   "source": [
    "df.info()"
   ]
  },
  {
   "cell_type": "code",
   "execution_count": 18,
   "metadata": {},
   "outputs": [],
   "source": [
    "X=df.iloc[:,[0,1,2,3,4,5,6,7,8,9,10,11,12]].values\n",
    "y=df.iloc[:,[13]].values.ravel()"
   ]
  },
  {
   "cell_type": "code",
   "execution_count": 19,
   "metadata": {},
   "outputs": [],
   "source": [
    "x_train,x_test,y_train,y_test=train_test_split(X,y,test_size=0.2,random_state=22)"
   ]
  },
  {
   "cell_type": "code",
   "execution_count": 20,
   "metadata": {},
   "outputs": [
    {
     "data": {
      "text/plain": [
       "SVC()"
      ]
     },
     "execution_count": 20,
     "metadata": {},
     "output_type": "execute_result"
    }
   ],
   "source": [
    "dvm=SVC()\n",
    "dvm.fit(x_train,y_train)"
   ]
  },
  {
   "cell_type": "code",
   "execution_count": 21,
   "metadata": {},
   "outputs": [
    {
     "data": {
      "text/plain": [
       "KNeighborsClassifier(n_neighbors=10)"
      ]
     },
     "execution_count": 21,
     "metadata": {},
     "output_type": "execute_result"
    }
   ],
   "source": [
    "knn=KNeighborsClassifier(n_neighbors=10)\n",
    "knn.fit(x_train,y_train)"
   ]
  },
  {
   "cell_type": "code",
   "execution_count": 22,
   "metadata": {},
   "outputs": [
    {
     "data": {
      "image/png": "[encoded data removed]",
      "text/plain": [
       "<Figure size 432x288 with 2 Axes>"
      ]
     },
     "metadata": {
      "needs_background": "light"
     },
     "output_type": "display_data"
    }
   ],
   "source": [
    "y_pred=dvm.predict(x_test)\n",
    "cfm=confusion_matrix(y_test,y_pred)\n",
    "sns.heatmap(data=cfm,annot=True)\n",
    "plt.show()"
   ]
  },
  {
   "cell_type": "code",
   "execution_count": 23,
   "metadata": {},
   "outputs": [
    {
     "data": {
      "text/plain": [
       "0.6833333333333333"
      ]
     },
     "execution_count": 23,
     "metadata": {},
     "output_type": "execute_result"
    }
   ],
   "source": [
    "skor= dvm.score(x_test,y_test)\n",
    "skor"
   ]
  }
 ],
 "metadata": {
  "interpreter": {
   "hash": "916dbcbb3f70747c44a77c7bcd40155683ae19c65e1c03b4aa3499c5328201f1"
  },
  "kernelspec": {
   "display_name": "Python 3.9.2 64-bit",
   "name": "python3"
  },
  "language_info": {
   "codemirror_mode": {
    "name": "ipython",
    "version": 3
   },
   "file_extension": ".py",
   "mimetype": "text/x-python",
   "name": "python",
   "nbconvert_exporter": "python",
   "pygments_lexer": "ipython3",
   "version": "3.8.10"
  },
  "orig_nbformat": 4
 },
 "nbformat": 4,
 "nbformat_minor": 2
}
