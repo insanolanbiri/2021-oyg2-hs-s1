{
 "cells": [
  {
   "cell_type": "code",
   "execution_count": 1,
   "metadata": {},
   "outputs": [],
   "source": [
    "import numpy as np, pandas as pd, matplotlib.pyplot as plt, seaborn as sns\n",
    "from sklearn.impute import SimpleImputer\n",
    "from sklearn.preprocessing import minmax_scale, LabelEncoder\n",
    "from sklearn.metrics import confusion_matrix, classification_report\n",
    "from sklearn.model_selection import train_test_split\n",
    "from sklearn.neighbors import KNeighborsClassifier\n"
   ]
  },
  {
   "cell_type": "code",
   "execution_count": 2,
   "metadata": {},
   "outputs": [
    {
     "name": "stdout",
     "output_type": "stream",
     "text": [
      "<class 'pandas.core.frame.DataFrame'>\n",
      "RangeIndex: 303 entries, 0 to 302\n",
      "Data columns (total 14 columns):\n",
      " #   Column                  Non-Null Count  Dtype  \n",
      "---  ------                  --------------  -----  \n",
      " 0   yas                     303 non-null    float64\n",
      " 1   cinsiyet                303 non-null    object \n",
      " 2   gogus_agrisi_tipi       303 non-null    object \n",
      " 3   hareketsiz_kan_basinci  303 non-null    float64\n",
      " 4   serum_kolestrol         303 non-null    float64\n",
      " 5   aclik_kan_sekeri        303 non-null    int64  \n",
      " 6   elektrokardiyografi     303 non-null    object \n",
      " 7   en_yuksek_kalp_hizi     303 non-null    float64\n",
      " 8   anjin_bagli_egsersiz    303 non-null    int64  \n",
      " 9   st_depresyonu           303 non-null    float64\n",
      " 10  st_egimi                303 non-null    object \n",
      " 11  buyuk_damarlar          299 non-null    float64\n",
      " 12  talasemi                301 non-null    object \n",
      " 13  kalp_rahatsizligi       303 non-null    int64  \n",
      "dtypes: float64(6), int64(3), object(5)\n",
      "memory usage: 33.3+ KB\n"
     ]
    }
   ],
   "source": [
    "data = pd.read_csv(\"./veri_setleri/kalp_rahatsizligi.csv\")\n",
    "data.info()\n"
   ]
  },
  {
   "cell_type": "code",
   "execution_count": 3,
   "metadata": {},
   "outputs": [
    {
     "data": {
      "text/html": [
       "<div>\n",
       "<style scoped>\n",
       "    .dataframe tbody tr th:only-of-type {\n",
       "        vertical-align: middle;\n",
       "    }\n",
       "\n",
       "    .dataframe tbody tr th {\n",
       "        vertical-align: top;\n",
       "    }\n",
       "\n",
       "    .dataframe thead th {\n",
       "        text-align: right;\n",
       "    }\n",
       "</style>\n",
       "<table border=\"1\" class=\"dataframe\">\n",
       "  <thead>\n",
       "    <tr style=\"text-align: right;\">\n",
       "      <th></th>\n",
       "      <th>yas</th>\n",
       "      <th>cinsiyet</th>\n",
       "      <th>gogus_agrisi_tipi</th>\n",
       "      <th>hareketsiz_kan_basinci</th>\n",
       "      <th>serum_kolestrol</th>\n",
       "      <th>aclik_kan_sekeri</th>\n",
       "      <th>elektrokardiyografi</th>\n",
       "      <th>en_yuksek_kalp_hizi</th>\n",
       "      <th>anjin_bagli_egsersiz</th>\n",
       "      <th>st_depresyonu</th>\n",
       "      <th>st_egimi</th>\n",
       "      <th>buyuk_damarlar</th>\n",
       "      <th>talasemi</th>\n",
       "      <th>kalp_rahatsizligi</th>\n",
       "    </tr>\n",
       "  </thead>\n",
       "  <tbody>\n",
       "    <tr>\n",
       "      <th>0</th>\n",
       "      <td>63.0</td>\n",
       "      <td>erkek</td>\n",
       "      <td>tipik anjinal</td>\n",
       "      <td>145.0</td>\n",
       "      <td>233.0</td>\n",
       "      <td>1</td>\n",
       "      <td>sol ventikuler hipertrofi</td>\n",
       "      <td>150.0</td>\n",
       "      <td>0</td>\n",
       "      <td>2.3</td>\n",
       "      <td>asagi egimli</td>\n",
       "      <td>0.0</td>\n",
       "      <td>sabit defekt</td>\n",
       "      <td>0</td>\n",
       "    </tr>\n",
       "    <tr>\n",
       "      <th>1</th>\n",
       "      <td>67.0</td>\n",
       "      <td>erkek</td>\n",
       "      <td>asemptomatik</td>\n",
       "      <td>160.0</td>\n",
       "      <td>286.0</td>\n",
       "      <td>0</td>\n",
       "      <td>sol ventikuler hipertrofi</td>\n",
       "      <td>108.0</td>\n",
       "      <td>1</td>\n",
       "      <td>1.5</td>\n",
       "      <td>duz</td>\n",
       "      <td>3.0</td>\n",
       "      <td>normal</td>\n",
       "      <td>1</td>\n",
       "    </tr>\n",
       "    <tr>\n",
       "      <th>2</th>\n",
       "      <td>67.0</td>\n",
       "      <td>erkek</td>\n",
       "      <td>asemptomatik</td>\n",
       "      <td>120.0</td>\n",
       "      <td>229.0</td>\n",
       "      <td>0</td>\n",
       "      <td>sol ventikuler hipertrofi</td>\n",
       "      <td>129.0</td>\n",
       "      <td>1</td>\n",
       "      <td>2.6</td>\n",
       "      <td>duz</td>\n",
       "      <td>2.0</td>\n",
       "      <td>tersinir defekt</td>\n",
       "      <td>1</td>\n",
       "    </tr>\n",
       "  </tbody>\n",
       "</table>\n",
       "</div>"
      ],
      "text/plain": [
       "    yas cinsiyet gogus_agrisi_tipi  hareketsiz_kan_basinci  serum_kolestrol  \\\n",
       "0  63.0    erkek     tipik anjinal                   145.0            233.0   \n",
       "1  67.0    erkek      asemptomatik                   160.0            286.0   \n",
       "2  67.0    erkek      asemptomatik                   120.0            229.0   \n",
       "\n",
       "   aclik_kan_sekeri        elektrokardiyografi  en_yuksek_kalp_hizi  \\\n",
       "0                 1  sol ventikuler hipertrofi                150.0   \n",
       "1                 0  sol ventikuler hipertrofi                108.0   \n",
       "2                 0  sol ventikuler hipertrofi                129.0   \n",
       "\n",
       "   anjin_bagli_egsersiz  st_depresyonu      st_egimi  buyuk_damarlar  \\\n",
       "0                     0            2.3  asagi egimli             0.0   \n",
       "1                     1            1.5           duz             3.0   \n",
       "2                     1            2.6           duz             2.0   \n",
       "\n",
       "          talasemi  kalp_rahatsizligi  \n",
       "0     sabit defekt                  0  \n",
       "1           normal                  1  \n",
       "2  tersinir defekt                  1  "
      ]
     },
     "execution_count": 3,
     "metadata": {},
     "output_type": "execute_result"
    }
   ],
   "source": [
    "data.head(3)\n"
   ]
  },
  {
   "cell_type": "code",
   "execution_count": 4,
   "metadata": {},
   "outputs": [],
   "source": [
    "data.rename(\n",
    "    columns={\n",
    "        \"gogus_agrisi_tipi\": \"gat\",\n",
    "        \"hareketsiz_kan_basinci\": \"hkb\",\n",
    "        \"serum_kolestrol\": \"kolestrol\",\n",
    "        \"aclik_kan_sekeri\": \"aks\",\n",
    "        \"elektrokardiyografi\": \"ekg\",\n",
    "        \"en_yuksek_kalp_hizi\": \"eykh\",\n",
    "        \"anjin_bagli_egsersiz\": \"abe\",\n",
    "        \"st_depresyonu\": \"st_d\",\n",
    "        \"st_egimi\": \"st_e\",\n",
    "        \"buyuk_damarlar\": \"bds\",\n",
    "    },\n",
    "    inplace=True,\n",
    ")\n"
   ]
  },
  {
   "cell_type": "code",
   "execution_count": 5,
   "metadata": {},
   "outputs": [
    {
     "name": "stdout",
     "output_type": "stream",
     "text": [
      "<class 'pandas.core.frame.DataFrame'>\n",
      "RangeIndex: 303 entries, 0 to 302\n",
      "Data columns (total 14 columns):\n",
      " #   Column             Non-Null Count  Dtype  \n",
      "---  ------             --------------  -----  \n",
      " 0   yas                303 non-null    float64\n",
      " 1   cinsiyet           303 non-null    object \n",
      " 2   gat                303 non-null    object \n",
      " 3   hkb                303 non-null    float64\n",
      " 4   kolestrol          303 non-null    float64\n",
      " 5   aks                303 non-null    int64  \n",
      " 6   ekg                303 non-null    object \n",
      " 7   eykh               303 non-null    float64\n",
      " 8   abe                303 non-null    int64  \n",
      " 9   st_d               303 non-null    float64\n",
      " 10  st_e               303 non-null    object \n",
      " 11  bds                299 non-null    float64\n",
      " 12  talasemi           301 non-null    object \n",
      " 13  kalp_rahatsizligi  303 non-null    int64  \n",
      "dtypes: float64(6), int64(3), object(5)\n",
      "memory usage: 33.3+ KB\n"
     ]
    }
   ],
   "source": [
    "data.info()\n"
   ]
  },
  {
   "cell_type": "code",
   "execution_count": 6,
   "metadata": {},
   "outputs": [],
   "source": [
    "imp = SimpleImputer(missing_values=np.nan, strategy=\"most_frequent\")\n",
    "bds = data.iloc[:, [11]].values\n",
    "tal = data.iloc[:, [12]].values\n",
    "data[\"bds\"] = imp.fit_transform(bds)\n",
    "data[\"talasemi\"] = imp.fit_transform(tal)\n",
    "del bds, tal\n"
   ]
  },
  {
   "cell_type": "code",
   "execution_count": 7,
   "metadata": {},
   "outputs": [
    {
     "name": "stdout",
     "output_type": "stream",
     "text": [
      "<class 'pandas.core.frame.DataFrame'>\n",
      "RangeIndex: 303 entries, 0 to 302\n",
      "Data columns (total 14 columns):\n",
      " #   Column             Non-Null Count  Dtype  \n",
      "---  ------             --------------  -----  \n",
      " 0   yas                303 non-null    float64\n",
      " 1   cinsiyet           303 non-null    int64  \n",
      " 2   gat                303 non-null    int64  \n",
      " 3   hkb                303 non-null    float64\n",
      " 4   kolestrol          303 non-null    float64\n",
      " 5   aks                303 non-null    int64  \n",
      " 6   ekg                303 non-null    int64  \n",
      " 7   eykh               303 non-null    float64\n",
      " 8   abe                303 non-null    int64  \n",
      " 9   st_d               303 non-null    float64\n",
      " 10  st_e               303 non-null    int64  \n",
      " 11  bds                303 non-null    float64\n",
      " 12  talasemi           303 non-null    int64  \n",
      " 13  kalp_rahatsizligi  303 non-null    int64  \n",
      "dtypes: float64(6), int64(8)\n",
      "memory usage: 33.3 KB\n"
     ]
    }
   ],
   "source": [
    "le = LabelEncoder()\n",
    "data[\"cinsiyet\"] = le.fit_transform(data[\"cinsiyet\"])\n",
    "data[\"gat\"] = le.fit_transform(data[\"gat\"])\n",
    "data[\"ekg\"] = le.fit_transform(data[\"ekg\"])\n",
    "data[\"st_e\"] = le.fit_transform(data[\"st_e\"])\n",
    "data[\"talasemi\"] = le.fit_transform(data[\"talasemi\"])\n",
    "data.info()\n"
   ]
  },
  {
   "cell_type": "code",
   "execution_count": 8,
   "metadata": {},
   "outputs": [
    {
     "data": {
      "image/png": "[encoded data removed]",
      "text/plain": [
       "<Figure size 432x288 with 1 Axes>"
      ]
     },
     "metadata": {
      "needs_background": "light"
     },
     "output_type": "display_data"
    }
   ],
   "source": [
    "sns.boxplot(data=data, y=\"kolestrol\")\n",
    "plt.show()\n"
   ]
  },
  {
   "cell_type": "code",
   "execution_count": 9,
   "metadata": {},
   "outputs": [
    {
     "data": {
      "text/plain": [
       "count    303.000000\n",
       "mean     246.693069\n",
       "std       51.776918\n",
       "min      126.000000\n",
       "25%      211.000000\n",
       "50%      241.000000\n",
       "75%      275.000000\n",
       "max      564.000000\n",
       "Name: kolestrol, dtype: float64"
      ]
     },
     "execution_count": 9,
     "metadata": {},
     "output_type": "execute_result"
    }
   ],
   "source": [
    "data.kolestrol.describe()\n"
   ]
  },
  {
   "cell_type": "code",
   "execution_count": 10,
   "metadata": {},
   "outputs": [
    {
     "data": {
      "text/plain": [
       "(115.0, 371.0)"
      ]
     },
     "execution_count": 10,
     "metadata": {},
     "output_type": "execute_result"
    }
   ],
   "source": [
    "q1 = data.kolestrol.describe()[4]\n",
    "q3 = data.kolestrol.describe()[6]\n",
    "iqr = q3 - q1\n",
    "min_k = q1 - 1.5 * iqr\n",
    "max_k = q3 + 1.5 * iqr\n",
    "min_k, max_k\n"
   ]
  },
  {
   "cell_type": "code",
   "execution_count": 11,
   "metadata": {},
   "outputs": [
    {
     "name": "stdout",
     "output_type": "stream",
     "text": [
      "<class 'pandas.core.frame.DataFrame'>\n",
      "Int64Index: 298 entries, 0 to 302\n",
      "Data columns (total 14 columns):\n",
      " #   Column             Non-Null Count  Dtype  \n",
      "---  ------             --------------  -----  \n",
      " 0   yas                298 non-null    float64\n",
      " 1   cinsiyet           298 non-null    int64  \n",
      " 2   gat                298 non-null    int64  \n",
      " 3   hkb                298 non-null    float64\n",
      " 4   kolestrol          298 non-null    float64\n",
      " 5   aks                298 non-null    int64  \n",
      " 6   ekg                298 non-null    int64  \n",
      " 7   eykh               298 non-null    float64\n",
      " 8   abe                298 non-null    int64  \n",
      " 9   st_d               298 non-null    float64\n",
      " 10  st_e               298 non-null    int64  \n",
      " 11  bds                298 non-null    float64\n",
      " 12  talasemi           298 non-null    int64  \n",
      " 13  kalp_rahatsizligi  298 non-null    int64  \n",
      "dtypes: float64(6), int64(8)\n",
      "memory usage: 34.9 KB\n"
     ]
    }
   ],
   "source": [
    "# Veri Filtreleme\n",
    "data = data[(data[\"kolestrol\"] >= min_k) & (data[\"kolestrol\"] <= max_k)]\n",
    "data.info()\n"
   ]
  },
  {
   "cell_type": "code",
   "execution_count": 12,
   "metadata": {},
   "outputs": [],
   "source": [
    "X = data.iloc[:, 0:13].values\n",
    "X = minmax_scale(X, feature_range=(0, 1))\n",
    "y = data.iloc[:, [13]].values.ravel()\n"
   ]
  },
  {
   "cell_type": "code",
   "execution_count": 13,
   "metadata": {},
   "outputs": [],
   "source": [
    "x_train, x_test, y_train, y_test = train_test_split(\n",
    "    X, y, test_size=0.2, random_state=22\n",
    ")\n"
   ]
  },
  {
   "cell_type": "code",
   "execution_count": 14,
   "metadata": {},
   "outputs": [
    {
     "data": {
      "text/plain": [
       "KNeighborsClassifier()"
      ]
     },
     "execution_count": 14,
     "metadata": {},
     "output_type": "execute_result"
    }
   ],
   "source": [
    "knn = KNeighborsClassifier(n_neighbors=5)\n",
    "knn.fit(x_train, y_train)\n"
   ]
  },
  {
   "cell_type": "code",
   "execution_count": 15,
   "metadata": {},
   "outputs": [
    {
     "data": {
      "text/plain": [
       "(array([0, 0, 0, 0, 1, 0, 1, 0, 1, 0, 0, 0, 1, 0, 1, 1, 1, 1, 1, 0, 1, 0,\n",
       "        1, 1, 1, 1, 1, 1, 0, 1, 1, 1, 0, 0, 0, 0, 0, 0, 0, 0, 1, 1, 0, 0,\n",
       "        1, 0, 0, 1, 1, 0, 1, 1, 0, 0, 1, 0, 0, 1, 1, 0]),\n",
       " array([0, 0, 0, 0, 1, 0, 1, 0, 1, 1, 0, 0, 1, 0, 1, 1, 1, 0, 1, 0, 0, 0,\n",
       "        1, 1, 1, 1, 0, 1, 0, 1, 1, 1, 0, 0, 1, 0, 1, 0, 0, 0, 0, 0, 0, 0,\n",
       "        1, 0, 0, 1, 1, 1, 0, 0, 0, 0, 0, 0, 1, 1, 1, 0]))"
      ]
     },
     "execution_count": 15,
     "metadata": {},
     "output_type": "execute_result"
    }
   ],
   "source": [
    "y_predict = knn.predict(x_test)\n",
    "y_test, y_predict\n"
   ]
  },
  {
   "cell_type": "code",
   "execution_count": 16,
   "metadata": {},
   "outputs": [
    {
     "data": {
      "text/plain": [
       "<function matplotlib.pyplot.show(close=None, block=None)>"
      ]
     },
     "execution_count": 16,
     "metadata": {},
     "output_type": "execute_result"
    },
    {
     "data": {
      "image/png": "[encoded data removed]",
      "text/plain": [
       "<Figure size 432x288 with 2 Axes>"
      ]
     },
     "metadata": {
      "needs_background": "light"
     },
     "output_type": "display_data"
    }
   ],
   "source": [
    "cfm = confusion_matrix(y_test, y_predict, labels=[0, 1])\n",
    "sns.heatmap(data=cfm, annot=True)\n",
    "plt.show\n"
   ]
  },
  {
   "cell_type": "code",
   "execution_count": 17,
   "metadata": {},
   "outputs": [
    {
     "name": "stdout",
     "output_type": "stream",
     "text": [
      "              precision    recall  f1-score   support\n",
      "\n",
      "           0       0.76      0.84      0.80        31\n",
      "           1       0.81      0.72      0.76        29\n",
      "\n",
      "    accuracy                           0.78        60\n",
      "   macro avg       0.79      0.78      0.78        60\n",
      "weighted avg       0.79      0.78      0.78        60\n",
      "\n",
      "0.7833333333333333\n"
     ]
    }
   ],
   "source": [
    "print(classification_report(y_test, y_predict))\n",
    "print(knn.score(x_test, y_test))\n"
   ]
  },
  {
   "cell_type": "code",
   "execution_count": 18,
   "metadata": {},
   "outputs": [
    {
     "name": "stdout",
     "output_type": "stream",
     "text": [
      "3 komşu için doğruluk: 0.8\n",
      "4 komşu için doğruluk: 0.8166666666666667\n",
      "5 komşu için doğruluk: 0.7833333333333333\n",
      "6 komşu için doğruluk: 0.8166666666666667\n",
      "7 komşu için doğruluk: 0.8\n",
      "8 komşu için doğruluk: 0.8\n",
      "9 komşu için doğruluk: 0.8\n",
      "10 komşu için doğruluk: 0.8\n",
      "11 komşu için doğruluk: 0.8166666666666667\n",
      "12 komşu için doğruluk: 0.8333333333333334\n",
      "13 komşu için doğruluk: 0.8333333333333334\n",
      "14 komşu için doğruluk: 0.8333333333333334\n",
      "15 komşu için doğruluk: 0.8333333333333334\n",
      "16 komşu için doğruluk: 0.8333333333333334\n",
      "17 komşu için doğruluk: 0.8333333333333334\n",
      "18 komşu için doğruluk: 0.85\n",
      "19 komşu için doğruluk: 0.8333333333333334\n",
      "20 komşu için doğruluk: 0.85\n",
      "21 komşu için doğruluk: 0.8166666666666667\n",
      "22 komşu için doğruluk: 0.8166666666666667\n",
      "23 komşu için doğruluk: 0.8166666666666667\n",
      "24 komşu için doğruluk: 0.8166666666666667\n",
      "25 komşu için doğruluk: 0.8166666666666667\n",
      "26 komşu için doğruluk: 0.8333333333333334\n",
      "27 komşu için doğruluk: 0.8166666666666667\n",
      "28 komşu için doğruluk: 0.8333333333333334\n",
      "29 komşu için doğruluk: 0.8333333333333334\n",
      "30 komşu için doğruluk: 0.8333333333333334\n",
      "31 komşu için doğruluk: 0.8166666666666667\n",
      "32 komşu için doğruluk: 0.8333333333333334\n",
      "33 komşu için doğruluk: 0.8166666666666667\n",
      "34 komşu için doğruluk: 0.8333333333333334\n",
      "35 komşu için doğruluk: 0.8166666666666667\n",
      "36 komşu için doğruluk: 0.8333333333333334\n",
      "37 komşu için doğruluk: 0.8166666666666667\n",
      "38 komşu için doğruluk: 0.8166666666666667\n",
      "39 komşu için doğruluk: 0.8166666666666667\n",
      "40 komşu için doğruluk: 0.8333333333333334\n",
      "41 komşu için doğruluk: 0.8166666666666667\n",
      "42 komşu için doğruluk: 0.8\n",
      "43 komşu için doğruluk: 0.8\n",
      "44 komşu için doğruluk: 0.8\n",
      "45 komşu için doğruluk: 0.8\n",
      "46 komşu için doğruluk: 0.8\n",
      "47 komşu için doğruluk: 0.8\n",
      "48 komşu için doğruluk: 0.7833333333333333\n",
      "49 komşu için doğruluk: 0.8\n",
      "50 komşu için doğruluk: 0.7666666666666667\n",
      "51 komşu için doğruluk: 0.7666666666666667\n",
      "52 komşu için doğruluk: 0.7666666666666667\n",
      "53 komşu için doğruluk: 0.7666666666666667\n",
      "54 komşu için doğruluk: 0.7666666666666667\n",
      "55 komşu için doğruluk: 0.7666666666666667\n",
      "56 komşu için doğruluk: 0.7666666666666667\n",
      "57 komşu için doğruluk: 0.7666666666666667\n",
      "58 komşu için doğruluk: 0.8\n",
      "59 komşu için doğruluk: 0.8166666666666667\n",
      "60 komşu için doğruluk: 0.8166666666666667\n",
      "61 komşu için doğruluk: 0.8166666666666667\n",
      "62 komşu için doğruluk: 0.8333333333333334\n",
      "63 komşu için doğruluk: 0.8333333333333334\n",
      "64 komşu için doğruluk: 0.8166666666666667\n",
      "65 komşu için doğruluk: 0.8333333333333334\n",
      "66 komşu için doğruluk: 0.8166666666666667\n",
      "67 komşu için doğruluk: 0.8166666666666667\n",
      "68 komşu için doğruluk: 0.8\n",
      "69 komşu için doğruluk: 0.8\n",
      "70 komşu için doğruluk: 0.8\n",
      "71 komşu için doğruluk: 0.8\n",
      "72 komşu için doğruluk: 0.8\n",
      "73 komşu için doğruluk: 0.8\n",
      "74 komşu için doğruluk: 0.8\n",
      "75 komşu için doğruluk: 0.8\n",
      "76 komşu için doğruluk: 0.8\n",
      "77 komşu için doğruluk: 0.8166666666666667\n",
      "78 komşu için doğruluk: 0.8333333333333334\n",
      "79 komşu için doğruluk: 0.8333333333333334\n",
      "80 komşu için doğruluk: 0.8166666666666667\n",
      "81 komşu için doğruluk: 0.8\n",
      "82 komşu için doğruluk: 0.8\n",
      "83 komşu için doğruluk: 0.7833333333333333\n",
      "84 komşu için doğruluk: 0.8\n",
      "85 komşu için doğruluk: 0.8\n",
      "86 komşu için doğruluk: 0.8\n",
      "87 komşu için doğruluk: 0.8\n",
      "88 komşu için doğruluk: 0.8\n",
      "89 komşu için doğruluk: 0.8\n",
      "90 komşu için doğruluk: 0.8\n",
      "91 komşu için doğruluk: 0.7833333333333333\n",
      "92 komşu için doğruluk: 0.7833333333333333\n",
      "93 komşu için doğruluk: 0.7833333333333333\n",
      "94 komşu için doğruluk: 0.7833333333333333\n",
      "95 komşu için doğruluk: 0.7833333333333333\n",
      "96 komşu için doğruluk: 0.7833333333333333\n",
      "97 komşu için doğruluk: 0.7833333333333333\n",
      "98 komşu için doğruluk: 0.7833333333333333\n",
      "99 komşu için doğruluk: 0.8\n",
      "100 komşu için doğruluk: 0.7833333333333333\n",
      "101 komşu için doğruluk: 0.7833333333333333\n",
      "102 komşu için doğruluk: 0.7833333333333333\n",
      "103 komşu için doğruluk: 0.7833333333333333\n",
      "104 komşu için doğruluk: 0.7833333333333333\n",
      "105 komşu için doğruluk: 0.8\n",
      "106 komşu için doğruluk: 0.7833333333333333\n",
      "107 komşu için doğruluk: 0.8\n",
      "108 komşu için doğruluk: 0.7833333333333333\n",
      "109 komşu için doğruluk: 0.8\n",
      "110 komşu için doğruluk: 0.7833333333333333\n",
      "111 komşu için doğruluk: 0.7833333333333333\n",
      "112 komşu için doğruluk: 0.7666666666666667\n",
      "113 komşu için doğruluk: 0.7666666666666667\n",
      "114 komşu için doğruluk: 0.7666666666666667\n",
      "115 komşu için doğruluk: 0.7666666666666667\n",
      "116 komşu için doğruluk: 0.8\n",
      "117 komşu için doğruluk: 0.8\n",
      "118 komşu için doğruluk: 0.8\n",
      "119 komşu için doğruluk: 0.8\n",
      "120 komşu için doğruluk: 0.7833333333333333\n",
      "121 komşu için doğruluk: 0.8\n",
      "122 komşu için doğruluk: 0.7833333333333333\n",
      "123 komşu için doğruluk: 0.7833333333333333\n",
      "124 komşu için doğruluk: 0.7833333333333333\n",
      "125 komşu için doğruluk: 0.8\n",
      "126 komşu için doğruluk: 0.7833333333333333\n",
      "127 komşu için doğruluk: 0.7833333333333333\n",
      "128 komşu için doğruluk: 0.8166666666666667\n",
      "129 komşu için doğruluk: 0.8166666666666667\n",
      "130 komşu için doğruluk: 0.8166666666666667\n",
      "131 komşu için doğruluk: 0.8\n",
      "132 komşu için doğruluk: 0.8166666666666667\n",
      "133 komşu için doğruluk: 0.8\n",
      "134 komşu için doğruluk: 0.8166666666666667\n",
      "135 komşu için doğruluk: 0.8\n",
      "136 komşu için doğruluk: 0.8166666666666667\n",
      "137 komşu için doğruluk: 0.8166666666666667\n",
      "138 komşu için doğruluk: 0.8\n",
      "139 komşu için doğruluk: 0.8\n",
      "140 komşu için doğruluk: 0.7833333333333333\n",
      "141 komşu için doğruluk: 0.8\n",
      "142 komşu için doğruluk: 0.7833333333333333\n",
      "143 komşu için doğruluk: 0.8\n",
      "144 komşu için doğruluk: 0.8\n",
      "145 komşu için doğruluk: 0.8\n",
      "146 komşu için doğruluk: 0.7833333333333333\n",
      "147 komşu için doğruluk: 0.8\n",
      "148 komşu için doğruluk: 0.7833333333333333\n",
      "149 komşu için doğruluk: 0.7833333333333333\n",
      "150 komşu için doğruluk: 0.7833333333333333\n",
      "151 komşu için doğruluk: 0.7833333333333333\n",
      "152 komşu için doğruluk: 0.7833333333333333\n",
      "153 komşu için doğruluk: 0.7833333333333333\n",
      "154 komşu için doğruluk: 0.7833333333333333\n",
      "155 komşu için doğruluk: 0.7833333333333333\n",
      "156 komşu için doğruluk: 0.7666666666666667\n",
      "157 komşu için doğruluk: 0.7666666666666667\n",
      "158 komşu için doğruluk: 0.75\n",
      "159 komşu için doğruluk: 0.75\n",
      "160 komşu için doğruluk: 0.75\n",
      "161 komşu için doğruluk: 0.75\n",
      "162 komşu için doğruluk: 0.7333333333333333\n",
      "163 komşu için doğruluk: 0.75\n",
      "164 komşu için doğruluk: 0.75\n",
      "165 komşu için doğruluk: 0.75\n",
      "166 komşu için doğruluk: 0.75\n",
      "167 komşu için doğruluk: 0.75\n",
      "168 komşu için doğruluk: 0.75\n",
      "169 komşu için doğruluk: 0.75\n",
      "170 komşu için doğruluk: 0.75\n",
      "171 komşu için doğruluk: 0.75\n",
      "172 komşu için doğruluk: 0.75\n",
      "173 komşu için doğruluk: 0.75\n",
      "174 komşu için doğruluk: 0.7333333333333333\n",
      "175 komşu için doğruluk: 0.75\n",
      "176 komşu için doğruluk: 0.7333333333333333\n",
      "177 komşu için doğruluk: 0.7333333333333333\n",
      "178 komşu için doğruluk: 0.7333333333333333\n",
      "179 komşu için doğruluk: 0.7333333333333333\n"
     ]
    }
   ],
   "source": [
    "for i in range(3, 180):\n",
    "    knn2 = KNeighborsClassifier(n_neighbors=i)\n",
    "    knn2.fit(x_train, y_train)\n",
    "    score = knn2.score(x_test, y_test)\n",
    "    print(f\"{i} komşu için doğruluk: {score}\")\n"
   ]
  },
  {
   "cell_type": "code",
   "execution_count": 21,
   "metadata": {},
   "outputs": [
    {
     "data": {
      "text/plain": [
       "(0.85, 0.8333333333333334)"
      ]
     },
     "execution_count": 21,
     "metadata": {},
     "output_type": "execute_result"
    }
   ],
   "source": [
    "from sklearn.naive_bayes import GaussianNB, BernoulliNB\n",
    "\n",
    "gnb = GaussianNB()\n",
    "gnb.fit(x_train, y_train)\n",
    "score_gNB = gnb.score(x_test, y_test)\n",
    "\n",
    "bnb = BernoulliNB()\n",
    "bnb.fit(x_train, y_train)\n",
    "score_bNB = bnb.score(x_test, y_test)\n",
    "\n",
    "score_gNB, score_bNB\n"
   ]
  },
  {
   "cell_type": "code",
   "execution_count": 22,
   "metadata": {},
   "outputs": [
    {
     "data": {
      "text/plain": [
       "0.8166666666666667"
      ]
     },
     "execution_count": 22,
     "metadata": {},
     "output_type": "execute_result"
    }
   ],
   "source": [
    "from sklearn.svm import SVC\n",
    "\n",
    "svm = SVC()\n",
    "svm.fit(x_train, y_train)\n",
    "score_svm = svm.score(x_test, y_test)\n",
    "score_svm\n"
   ]
  },
  {
   "cell_type": "code",
   "execution_count": 28,
   "metadata": {},
   "outputs": [
    {
     "data": {
      "text/plain": [
       "0.8166666666666667"
      ]
     },
     "execution_count": 28,
     "metadata": {},
     "output_type": "execute_result"
    }
   ],
   "source": [
    "from sklearn.linear_model import LogisticRegressionCV\n",
    "\n",
    "lr = LogisticRegressionCV(cv=10)\n",
    "lr.fit(x_train, y_train)\n",
    "score_lr = lr.score(x_test, y_test)\n",
    "score_lr\n"
   ]
  }
 ],
 "metadata": {
  "interpreter": {
   "hash": "916dbcbb3f70747c44a77c7bcd40155683ae19c65e1c03b4aa3499c5328201f1"
  },
  "kernelspec": {
   "display_name": "Python 3.9.2 64-bit",
   "name": "python3"
  },
  "language_info": {
   "codemirror_mode": {
    "name": "ipython",
    "version": 3
   },
   "file_extension": ".py",
   "mimetype": "text/x-python",
   "name": "python",
   "nbconvert_exporter": "python",
   "pygments_lexer": "ipython3",
   "version": "3.9.2"
  },
  "orig_nbformat": 4
 },
 "nbformat": 4,
 "nbformat_minor": 2
}
