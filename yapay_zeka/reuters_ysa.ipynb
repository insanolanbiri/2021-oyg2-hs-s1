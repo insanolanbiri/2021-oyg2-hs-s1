{
 "cells": [
  {
   "cell_type": "code",
   "execution_count": 1,
   "metadata": {},
   "outputs": [
    {
     "name": "stderr",
     "output_type": "stream",
     "text": [
      "2022-01-08 16:38:45.144654: W tensorflow/stream_executor/platform/default/dso_loader.cc:64] Could not load dynamic library 'libcudart.so.11.0'; dlerror: libcudart.so.11.0: cannot open shared object file: No such file or directory\n",
      "2022-01-08 16:38:45.144675: I tensorflow/stream_executor/cuda/cudart_stub.cc:29] Ignore above cudart dlerror if you do not have a GPU set up on your machine.\n"
     ]
    }
   ],
   "source": [
    "from keras.datasets import reuters\n",
    "(train_data,train_labels),(test_data,test_labels)=reuters.load_data(num_words=10000)\n",
    "word_index=reuters.get_word_index()"
   ]
  },
  {
   "cell_type": "code",
   "execution_count": 2,
   "metadata": {},
   "outputs": [
    {
     "data": {
      "text/plain": [
       "8982"
      ]
     },
     "execution_count": 2,
     "metadata": {},
     "output_type": "execute_result"
    }
   ],
   "source": [
    "len(train_data)"
   ]
  },
  {
   "cell_type": "code",
   "execution_count": 3,
   "metadata": {},
   "outputs": [
    {
     "name": "stdout",
     "output_type": "stream",
     "text": [
      "2246\n",
      "<class 'numpy.ndarray'>\n"
     ]
    },
    {
     "data": {
      "text/plain": [
       "1"
      ]
     },
     "execution_count": 3,
     "metadata": {},
     "output_type": "execute_result"
    }
   ],
   "source": [
    "print(len(test_data))\n",
    "print(type(test_data))\n",
    "test_data.ndim"
   ]
  },
  {
   "cell_type": "code",
   "execution_count": 4,
   "metadata": {},
   "outputs": [
    {
     "name": "stdout",
     "output_type": "stream",
     "text": [
      "30979\n",
      "<class 'dict'>\n"
     ]
    }
   ],
   "source": [
    "print(len(word_index))\n",
    "print(type(word_index))"
   ]
  },
  {
   "cell_type": "code",
   "execution_count": 5,
   "metadata": {},
   "outputs": [],
   "source": [
    "reverse_word_index=dict([(value,key) for (key,value) in word_index.items()])"
   ]
  },
  {
   "cell_type": "code",
   "execution_count": 6,
   "metadata": {},
   "outputs": [
    {
     "data": {
      "text/plain": [
       "'? ? ? said as a result of its december acquisition of space co it expects earnings per share in 1987 of 1 15 to 1 30 dlrs per share up from 70 cts in 1986 the company said pretax net should rise to nine to 10 mln dlrs from six mln dlrs in 1986 and rental operation revenues to 19 to 22 mln dlrs from 12 5 mln dlrs it said cash flow per share this year should be 2 50 to three dlrs reuter 3'"
      ]
     },
     "execution_count": 6,
     "metadata": {},
     "output_type": "execute_result"
    }
   ],
   "source": [
    "decoded_news=' '.join([reverse_word_index.get(i-3,\"?\") for i in train_data[0]])\n",
    "decoded_news"
   ]
  },
  {
   "cell_type": "code",
   "execution_count": 7,
   "metadata": {},
   "outputs": [],
   "source": [
    "import numpy as np\n",
    "def vectorize_sequences(sequences,dimension=10000):\n",
    "    results=np.zeros((len(sequences),dimension))\n",
    "    for i,sequence in enumerate(sequences):\n",
    "        results[i,sequence]=1.0\n",
    "    return results"
   ]
  },
  {
   "cell_type": "code",
   "execution_count": 8,
   "metadata": {},
   "outputs": [],
   "source": [
    "x_train=vectorize_sequences(train_data)\n",
    "x_test=vectorize_sequences(test_data)"
   ]
  },
  {
   "cell_type": "code",
   "execution_count": 9,
   "metadata": {},
   "outputs": [
    {
     "data": {
      "text/plain": [
       "array([ 0,  1,  2,  3,  4,  5,  6,  7,  8,  9, 10, 11, 12, 13, 14, 15, 16,\n",
       "       17, 18, 19, 20, 21, 22, 23, 24, 25, 26, 27, 28, 29, 30, 31, 32, 33,\n",
       "       34, 35, 36, 37, 38, 39, 40, 41, 42, 43, 44, 45])"
      ]
     },
     "execution_count": 9,
     "metadata": {},
     "output_type": "execute_result"
    }
   ],
   "source": [
    "np.unique(train_labels)"
   ]
  },
  {
   "cell_type": "code",
   "execution_count": 10,
   "metadata": {},
   "outputs": [],
   "source": [
    "def to_one_hot(labels,dimmension=46):\n",
    "    results=np.zeros((len(labels),dimmension))\n",
    "    for i,label in enumerate(labels):\n",
    "        results[i,label]=1.0\n",
    "    return results\n",
    "#bu fonksiyon ile aynı şeyi yapan şey:\n",
    "#from keras.utils.np_utils import to_categorical"
   ]
  },
  {
   "cell_type": "code",
   "execution_count": 11,
   "metadata": {},
   "outputs": [
    {
     "data": {
      "text/plain": [
       "array([[0., 0., 0., ..., 0., 0., 0.],\n",
       "       [0., 0., 0., ..., 0., 0., 0.],\n",
       "       [0., 0., 0., ..., 0., 0., 0.],\n",
       "       ...,\n",
       "       [0., 0., 0., ..., 0., 0., 0.],\n",
       "       [0., 0., 0., ..., 0., 0., 0.],\n",
       "       [0., 0., 0., ..., 0., 0., 0.]])"
      ]
     },
     "execution_count": 11,
     "metadata": {},
     "output_type": "execute_result"
    }
   ],
   "source": [
    "one_hot_train_labels=to_one_hot(train_labels)\n",
    "one_hot_train_labels"
   ]
  },
  {
   "cell_type": "code",
   "execution_count": 12,
   "metadata": {},
   "outputs": [
    {
     "data": {
      "text/plain": [
       "array([[0., 0., 0., ..., 0., 0., 0.],\n",
       "       [0., 0., 0., ..., 0., 0., 0.],\n",
       "       [0., 1., 0., ..., 0., 0., 0.],\n",
       "       ...,\n",
       "       [0., 0., 0., ..., 0., 0., 0.],\n",
       "       [0., 0., 0., ..., 0., 0., 0.],\n",
       "       [0., 0., 0., ..., 0., 0., 0.]])"
      ]
     },
     "execution_count": 12,
     "metadata": {},
     "output_type": "execute_result"
    }
   ],
   "source": [
    "one_hot_test_labels=to_one_hot(test_labels)\n",
    "one_hot_test_labels"
   ]
  },
  {
   "cell_type": "code",
   "execution_count": 13,
   "metadata": {},
   "outputs": [],
   "source": [
    "from keras import models, layers"
   ]
  },
  {
   "cell_type": "code",
   "execution_count": 14,
   "metadata": {},
   "outputs": [
    {
     "name": "stderr",
     "output_type": "stream",
     "text": [
      "2022-01-08 16:38:51.221554: E tensorflow/stream_executor/cuda/cuda_driver.cc:271] failed call to cuInit: CUDA_ERROR_NO_DEVICE: no CUDA-capable device is detected\n",
      "2022-01-08 16:38:51.221614: I tensorflow/stream_executor/cuda/cuda_diagnostics.cc:156] kernel driver does not appear to be running on this host (Casper-PC): /proc/driver/nvidia/version does not exist\n",
      "2022-01-08 16:38:51.222079: I tensorflow/core/platform/cpu_feature_guard.cc:151] This TensorFlow binary is optimized with oneAPI Deep Neural Network Library (oneDNN) to use the following CPU instructions in performance-critical operations:  AVX2 FMA\n",
      "To enable them in other operations, rebuild TensorFlow with the appropriate compiler flags.\n"
     ]
    }
   ],
   "source": [
    "model=models.Sequential()"
   ]
  },
  {
   "cell_type": "code",
   "execution_count": 15,
   "metadata": {},
   "outputs": [],
   "source": [
    "model.add(layers.Dense(64,activation=\"relu\",input_shape=(10000,)))\n",
    "model.add(layers.Dense(64,activation=\"relu\"))\n",
    "model.add(layers.Dense(46,activation=\"softmax\"))"
   ]
  },
  {
   "cell_type": "code",
   "execution_count": 16,
   "metadata": {},
   "outputs": [],
   "source": [
    "model.compile(optimizer=\"rmsprop\",loss=\"categorical_crossentropy\",metrics=[\"accuracy\"])"
   ]
  },
  {
   "cell_type": "code",
   "execution_count": 17,
   "metadata": {},
   "outputs": [],
   "source": [
    "x_val=x_train[:1000]\n",
    "partial_x_train=x_train[1000:]\n",
    "y_val=one_hot_train_labels[:1000]\n",
    "partial_y_train=one_hot_train_labels[1000:]"
   ]
  },
  {
   "cell_type": "code",
   "execution_count": 18,
   "metadata": {},
   "outputs": [
    {
     "name": "stdout",
     "output_type": "stream",
     "text": [
      "Epoch 1/16\n",
      "16/16 [==============================] - 2s 55ms/step - loss: 2.6507 - accuracy: 0.5422 - val_loss: 1.7300 - val_accuracy: 0.6260\n",
      "Epoch 2/16\n",
      "16/16 [==============================] - 1s 38ms/step - loss: 1.4234 - accuracy: 0.7038 - val_loss: 1.3016 - val_accuracy: 0.7150\n",
      "Epoch 3/16\n",
      "16/16 [==============================] - 1s 41ms/step - loss: 1.0618 - accuracy: 0.7784 - val_loss: 1.1522 - val_accuracy: 0.7540\n",
      "Epoch 4/16\n",
      "16/16 [==============================] - 1s 37ms/step - loss: 0.8431 - accuracy: 0.8239 - val_loss: 1.0327 - val_accuracy: 0.7910\n",
      "Epoch 5/16\n",
      "16/16 [==============================] - 1s 38ms/step - loss: 0.6740 - accuracy: 0.8571 - val_loss: 0.9625 - val_accuracy: 0.8010\n",
      "Epoch 6/16\n",
      "16/16 [==============================] - 1s 42ms/step - loss: 0.5377 - accuracy: 0.8855 - val_loss: 0.9505 - val_accuracy: 0.7980\n",
      "Epoch 7/16\n",
      "16/16 [==============================] - 1s 37ms/step - loss: 0.4347 - accuracy: 0.9077 - val_loss: 0.8994 - val_accuracy: 0.8110\n",
      "Epoch 8/16\n",
      "16/16 [==============================] - 1s 37ms/step - loss: 0.3536 - accuracy: 0.9237 - val_loss: 0.9098 - val_accuracy: 0.8060\n",
      "Epoch 9/16\n",
      "16/16 [==============================] - 1s 50ms/step - loss: 0.2940 - accuracy: 0.9344 - val_loss: 0.9057 - val_accuracy: 0.8130\n",
      "Epoch 10/16\n",
      "16/16 [==============================] - 1s 42ms/step - loss: 0.2505 - accuracy: 0.9422 - val_loss: 0.8949 - val_accuracy: 0.8140\n",
      "Epoch 11/16\n",
      "16/16 [==============================] - 1s 47ms/step - loss: 0.2142 - accuracy: 0.9468 - val_loss: 0.9426 - val_accuracy: 0.8070\n",
      "Epoch 12/16\n",
      "16/16 [==============================] - 1s 47ms/step - loss: 0.1860 - accuracy: 0.9510 - val_loss: 0.9606 - val_accuracy: 0.8040\n",
      "Epoch 13/16\n",
      "16/16 [==============================] - 1s 58ms/step - loss: 0.1713 - accuracy: 0.9538 - val_loss: 0.9382 - val_accuracy: 0.8150\n",
      "Epoch 14/16\n",
      "16/16 [==============================] - 1s 48ms/step - loss: 0.1540 - accuracy: 0.9545 - val_loss: 0.9293 - val_accuracy: 0.8150\n",
      "Epoch 15/16\n",
      "16/16 [==============================] - 1s 38ms/step - loss: 0.1488 - accuracy: 0.9545 - val_loss: 0.9827 - val_accuracy: 0.8130\n",
      "Epoch 16/16\n",
      "16/16 [==============================] - 0s 29ms/step - loss: 0.1316 - accuracy: 0.9562 - val_loss: 1.0233 - val_accuracy: 0.7990\n"
     ]
    }
   ],
   "source": [
    "history=model.fit(x=partial_x_train,y=partial_y_train,batch_size=512,epochs=16,validation_data=(x_val,y_val))"
   ]
  }
 ],
 "metadata": {
  "interpreter": {
   "hash": "916dbcbb3f70747c44a77c7bcd40155683ae19c65e1c03b4aa3499c5328201f1"
  },
  "kernelspec": {
   "display_name": "Python 3.9.2 64-bit",
   "language": "python",
   "name": "python3"
  },
  "language_info": {
   "codemirror_mode": {
    "name": "ipython",
    "version": 3
   },
   "file_extension": ".py",
   "mimetype": "text/x-python",
   "name": "python",
   "nbconvert_exporter": "python",
   "pygments_lexer": "ipython3",
   "version": "3.8.10"
  },
  "orig_nbformat": 4
 },
 "nbformat": 4,
 "nbformat_minor": 2
}
